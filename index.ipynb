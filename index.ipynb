{
 "cells": [
  {
   "cell_type": "markdown",
   "metadata": {},
   "source": [
    "# CodingGirls - Python For Beginners (18th Sep - 16th Oct 2016)"
   ]
  },
  {
   "cell_type": "markdown",
   "metadata": {},
   "source": [
    "## Class 01 - Python Basics (18th Sep 2016, 1:30 - 5:00 pm, SG) "
   ]
  },
  {
   "cell_type": "markdown",
   "metadata": {},
   "source": [
    "### Coach Information (5 mins)"
   ]
  },
  {
   "cell_type": "markdown",
   "metadata": {},
   "source": [
    "I am [Wang Eric GaoXiang](https://docs.google.com/presentation/d/1wuOBGiDoZGnLxhw5u4s5_F3vP7wiVc88s3rGm5z0i_Q/edit#slide=id.p3), software engineer from Hewlett Packard Enterprise (HPE) Singapore. \n",
    "\n",
    "_Python and Me:_\n",
    "* Learned Python as my first programming language\n",
    "* Participated in or helped with PyCon Asia / Singapore many times (e.g. 2011, 2012, 2015)\n",
    "* Worked with a few local companies who use Python heavily (e.g. TripVillas, BigSpoon)"
   ]
  },
  {
   "cell_type": "markdown",
   "metadata": {},
   "source": [
    "### Session 1 - Background Of Python (25 mins)\n",
    "\n",
    "References:\n",
    "\n",
    "> [Guido van Rossum Wiki Page](https://en.wikipedia.org/wiki/Guido_van_Rossum)\n",
    "\n",
    "> [CS41 Welcome to Python!](https://drive.google.com/open?id=0B-eHIhYpHrGDbU5INU9wcy1zN0U)\n",
    "\n",
    "> [CS41 The Python Ecosystem](https://drive.google.com/open?id=0B-eHIhYpHrGDcVhhNk1KN3I5UFk)"
   ]
  },
  {
   "cell_type": "markdown",
   "metadata": {},
   "source": [
    "#### 1.1 Why Python\n",
    "\n",
    "![Python Is](https://cdn.shopify.com/s/files/1/0739/3619/products/python-programming-language-lovers-navy-blue-poster.jpg)"
   ]
  },
  {
   "cell_type": "markdown",
   "metadata": {},
   "source": [
    "#### 1.2 History Of Python\n",
    "![Father Of Python](https://upload.wikimedia.org/wikipedia/commons/thumb/6/66/Guido_van_Rossum_OSCON_2006.jpg/800px-Guido_van_Rossum_OSCON_2006.jpg)\n",
    "\n",
    "__Benevolent Dictator For Life (BDFL)__ \n",
    "\n",
    "Guido van Rossum wrote in 1996:\n",
    "\n",
    "> Over six years ago, in December 1989, I was looking for a \"hobby\" programming project that would keep me occupied during the week around Christmas. My office ... would be closed, but I had a home computer, and not much else on my hands. I decided to write an interpreter for the new scripting language I had been thinking about lately: a descendant of ABC that would appeal to Unix/C hackers. I chose Python as a working title for the project, being in a slightly irreverent mood (and a big fan of Monty Python's Flying Circus).\n",
    "\n",
    "__Python Version__\n",
    "\n",
    "* Python 1: 1994\n",
    "* Python 2: 2000\n",
    "* Python 3: 2008\n",
    "\n",
    "__Python 2 vs Python 3__\n",
    "\n",
    "| Python 2      | Python 3      |\n",
    "| ------------- | ------------- |\n",
    "|# .items/keys/values->list<br>d = {'a': 1, 'b': 2}<br>d.items() # => [('a', 1), ('b', 2)] |# .items/keys/values->view<br>d = {'a': 1, 'b': 2}<br>d.items() # => view |\n",
    "|# map and filter -> list |# map and filter -> iterator |\n",
    "|# range->list, xrange->iterator<br>range(5) # => list | # range->iterator<br>range(5) # => iterator |\n",
    "|zip([4, 1], 'py')<br># => [(4, 'p'), (1, 'y')] (list) |zip([4, 1], 'py')<br># => iterator |\n",
    "| # print is a statement<br> print \"The answer is \", 4 |# print is a function<br> print(\"The answer is \", 4)\n",
    "| # tailing comma suppresses new line<br> print x, |# appends a space instead of a newline<br> print(x, end=\" \")|\n",
    "| # print a newline<br> print | # call the function<br> print() |\n",
    "| # print to a file object<br> print >>sys.stderr, \"fatal error\" |# print to a file object<br>print(\"fatal error\", file=sys.stderr) |\n",
    "| # print a tuple<br> print(x, y) |# print a tuple<br>print((x,y)) |\n",
    "\n",
    "_Other Differences_\n",
    "\n",
    "* raw_input vs. input\n",
    "* consolidation of integer types\n",
    "* new-style objects\n",
    "* integer division\n",
    "* native unicode support\n",
    "* exception syntax\n",
    "* standard library organization\n",
    "\n",
    "and many more ..."
   ]
  },
  {
   "cell_type": "code",
   "execution_count": null,
   "metadata": {
    "collapsed": false,
    "scrolled": true
   },
   "outputs": [],
   "source": [
    "import sys\n",
    "\n",
    "# Check which version we are using :-/\n",
    "print(sys.version)"
   ]
  },
  {
   "cell_type": "markdown",
   "metadata": {},
   "source": [
    "#### 1.3 The Zen of Python"
   ]
  },
  {
   "cell_type": "code",
   "execution_count": null,
   "metadata": {
    "collapsed": false,
    "scrolled": true
   },
   "outputs": [],
   "source": [
    "# Programmers are more important than programs\n",
    "# Life is short, please use Python\n",
    "import this"
   ]
  },
  {
   "cell_type": "markdown",
   "metadata": {},
   "source": [
    "#### 1.4 Who uses Python"
   ]
  },
  {
   "cell_type": "markdown",
   "metadata": {},
   "source": [
    "__Python in Big Name:__\n",
    "* Google\n",
    "* Dropbox\n",
    "* Quora\n",
    "* Instagram\n",
    "\n",
    "and many more ...\n",
    "\n",
    "__Python in Singapore:__\n",
    "* [Carousell](https://carousell.com)\n",
    "* [PropertyGuru](http://www.propertyguru.com.sg)\n",
    "* [Zopim](https://www.zopim.com)\n",
    "* [Tripvillas](http://www.tripvillas.com)\n",
    "* [Razer](http://www.razerzone.com)\n",
    "\n",
    "and many more ..."
   ]
  },
  {
   "cell_type": "code",
   "execution_count": null,
   "metadata": {
    "collapsed": false,
    "scrolled": true,
    "slideshow": {
     "slide_type": "-"
    }
   },
   "outputs": [],
   "source": [
    "# quiz 1\n",
    "\n",
    "# print Hello CodingGirls!\n",
    "<FILL IN>"
   ]
  },
  {
   "cell_type": "markdown",
   "metadata": {},
   "source": [
    "![joke 1](http://s2.quickmeme.com/img/c1/c18763cc00aaebf5ca42bbb5b88922b9ab4fd759e06ae3f1b8b460151eaf0f94.jpg)\n",
    "\n",
    "That means break time. 10 mins break and feel free to ask questions. :D"
   ]
  },
  {
   "cell_type": "markdown",
   "metadata": {},
   "source": [
    "### Session 2 - First Impression Of Python (60 mins)\n",
    "\n",
    "References:\n",
    "\n",
    "> [CS41 Welcome to Python!](https://drive.google.com/open?id=0B-eHIhYpHrGDbU5INU9wcy1zN0U)\n",
    "\n",
    "> [CS41 Python Fundamentals](https://drive.google.com/open?id=0B-eHIhYpHrGDaFVLZnRxVGg1RWc)\n",
    "\n",
    "_NOTE: If you are not using notebook, you can also start Python Interpreter to follow along for this session._"
   ]
  },
  {
   "cell_type": "markdown",
   "metadata": {},
   "source": [
    "#### 2.1 Comments"
   ]
  },
  {
   "cell_type": "code",
   "execution_count": null,
   "metadata": {
    "collapsed": true
   },
   "outputs": [],
   "source": [
    "# single line comments start with a '#'\n",
    "\n",
    "\"\"\"\n",
    "multiline strings can be written\n",
    "using three \"s, and are often used\n",
    "as comments\n",
    "\"\"\""
   ]
  },
  {
   "cell_type": "markdown",
   "metadata": {},
   "source": [
    "#### 2.2 Variables"
   ]
  },
  {
   "cell_type": "code",
   "execution_count": null,
   "metadata": {
    "collapsed": false,
    "scrolled": true
   },
   "outputs": [],
   "source": [
    "x = 2\n",
    "print(x * 7) # => 14\n",
    "\n",
    "x = \"Hello, I'm \"\n",
    "print(x + \"Python!\") # => \"Hello, I'm Python\""
   ]
  },
  {
   "cell_type": "markdown",
   "metadata": {},
   "source": [
    "#### 2.3 Numbers and Math"
   ]
  },
  {
   "cell_type": "code",
   "execution_count": null,
   "metadata": {
    "collapsed": false,
    "scrolled": true
   },
   "outputs": [],
   "source": [
    "print(3) # => 3 (int)\n",
    "print(3.0) # => 3.0 (float)\n",
    "print(1 + 1) # => 2\n",
    "print(8 - 1) # => 7\n",
    "print(10 * 2) # => 20\n",
    "print(9 / 3) # => 3.0\n",
    "print(5 / 2) # => 2.5\n",
    "print(7 / 1.4) # => 5.0\n",
    "print(7 // 3) # => 2 (integer division)\n",
    "print(7 % 3) # => 1 (integer modulus)\n",
    "print(2 ** 4) # => 16 (exponentiation)"
   ]
  },
  {
   "cell_type": "markdown",
   "metadata": {},
   "source": [
    "#### 2.4 Booleans"
   ]
  },
  {
   "cell_type": "code",
   "execution_count": null,
   "metadata": {
    "collapsed": false,
    "scrolled": true
   },
   "outputs": [],
   "source": [
    "print(True) # => True\n",
    "print(False) # => False\n",
    "print(not True) # => False\n",
    "print(True and False) # => False\n",
    "print(True or False) # => True (short-circuits)\n",
    "print(1 == 1) # => True\n",
    "print(2 * 3 == 5) # => False\n",
    "print(1 != 1) # => False\n",
    "print(2 * 3 != 5) # => True\n",
    "print(1 < 10) # => True\n",
    "print(2 >= 0) # => True\n",
    "print(1 < 2 < 3) # => True (1 < 2 and 2 < 3)\n",
    "print(1 < 2 >= 3) # => False (1 < 2 and 2 >= 3)"
   ]
  },
  {
   "cell_type": "markdown",
   "metadata": {},
   "source": [
    "#### 2.5 String"
   ]
  },
  {
   "cell_type": "code",
   "execution_count": null,
   "metadata": {
    "collapsed": false,
    "scrolled": true
   },
   "outputs": [],
   "source": [
    "greeting = 'Hellø' # unicode by default\n",
    "group = \"世界\"\n",
    "print(greeting + ' ' + group + '!') # => 'Hellø 世界!'"
   ]
  },
  {
   "cell_type": "code",
   "execution_count": null,
   "metadata": {
    "collapsed": false,
    "scrolled": true
   },
   "outputs": [],
   "source": [
    "s = \"Arthur\"\n",
    "print(s[0]) # => 'A'\n",
    "print(s[1]) # => 'r'\n",
    "print(s[4]) # => 'u'\n",
    "# s[6] Bad!\n",
    "\n",
    "print(s[-1]) # => 'r'\n",
    "print(s[-2]) # => 'u'\n",
    "print(s[-4]) # => 't'\n",
    "print(s[-6]) # => 'A'\n",
    "\n",
    "print(s[0:2]) # => 'Ar'\n",
    "print(s[3:6]) # => 'hur'\n",
    "print(s[1:4]) # => 'rth'\n",
    "print(s[:2]) # => 'Ar'\n",
    "print(s[3:]) # => 'hur'\n",
    "\n",
    "print(s[1:5:2]) # => 'rh'\n",
    "print(s[5:2:-2]) # => 'ut'"
   ]
  },
  {
   "cell_type": "code",
   "execution_count": null,
   "metadata": {
    "collapsed": false,
    "scrolled": true
   },
   "outputs": [],
   "source": [
    "# quiz 2\n",
    "\n",
    "q = \"CodingGirls\"\n",
    "print(q[-1::] == <FILL IN>)\n",
    "print(q[:-1:] == <FILL IN>)\n",
    "print(q[::-1] == <FILL IN>)"
   ]
  },
  {
   "cell_type": "code",
   "execution_count": null,
   "metadata": {
    "collapsed": false,
    "scrolled": true
   },
   "outputs": [],
   "source": [
    "# string to / from number\n",
    "\n",
    "print(int(\"42\")) # => 42\n",
    "print(float(\"2.5\")) # => 2.5\n",
    "print(float(\"1\")) # => 1.0\n",
    "print(str(42)) # => \"42\""
   ]
  },
  {
   "cell_type": "code",
   "execution_count": null,
   "metadata": {
    "collapsed": false,
    "scrolled": true
   },
   "outputs": [],
   "source": [
    "# special characters\n",
    "\n",
    "print('doesn\\'t') # => doesn't\n",
    "print(\"doesn't\") # => doesn't\n",
    "print('\"Yes,\" he said.') # => \"Yes,\" he said.\n",
    "print(\"\\\"Yes,\\\" he said.\") # => \"Yes,\" he said.\n",
    "print('\"Isn\\'t,\" she said.') # => \"Isn't,\" she said."
   ]
  },
  {
   "cell_type": "code",
   "execution_count": null,
   "metadata": {
    "collapsed": false,
    "scrolled": true
   },
   "outputs": [],
   "source": [
    "# useful string methods (https://docs.python.org/3/library/stdtypes.html#string-methods) \n",
    "\n",
    "greeting = \"Hello world! \"\n",
    "print(greeting[4]) # => 'o'\n",
    "print('world' in greeting) # => True\n",
    "print(len(greeting)) # => 13\n",
    "print(greeting.find('lo')) # => 3\n",
    "print(greeting.find('ol')) # => -1\n",
    "print(greeting.replace('llo', 'y')) # => \"hey world!\"\n",
    "greeting = \"Hello world! \"\n",
    "print(greeting.startswith('Hell')) # => True\n",
    "print(greeting.isalpha()) # => False (due to '!')\n",
    "\n",
    "print(greeting.lower()) # => \"hello world!\"\n",
    "print(greeting.strip()) # => \"Hello world!\"\n",
    "print(greeting.strip('! ')) # => \"Hello world\" (no '!')"
   ]
  },
  {
   "cell_type": "code",
   "execution_count": null,
   "metadata": {
    "collapsed": true
   },
   "outputs": [],
   "source": [
    "# quiz 3\n",
    "\n",
    "# '-42' -> '-0042'\n",
    "print('-42'.<FILL IN>)\n",
    "# ' Hello world! ' -> 'Hello World'\n",
    "print(' Hello world! '.<FILL IN>)"
   ]
  },
  {
   "cell_type": "code",
   "execution_count": null,
   "metadata": {
    "collapsed": false,
    "scrolled": true
   },
   "outputs": [],
   "source": [
    "# string formatting (https://docs.python.org/3/library/string.html#format-string-syntax)\n",
    "\n",
    "print('{} {}'.format('one', 'two')) # => one two\n",
    "print(\"{0} can be {1} {0}s\".format(\"strings\", \"formatted\")) # => strings can be formatted stringss\n",
    "print(\"{name} loves {food}\".format(name=\"Sam\", food=\"plums\")) # => Sam loves plums\n",
    "print(\"{:06.2f}\".format(3.14159)) # => 003.14\n",
    "print('{:10}'.format('hi')) # => 'hi        '\n",
    "\n",
    "captains = ['Kirk', 'Picard']\n",
    "print(\"{caps[0]} > {caps[1]}\".format(caps=captains)) # => Kirk > Picard"
   ]
  },
  {
   "cell_type": "markdown",
   "metadata": {},
   "source": [
    "#### 2.6 List\n",
    "\n",
    "> Learn more (e.g dict, tuple) at [CS41 Data Structures](https://drive.google.com/open?id=0B6rwNya1p7r4TGo1eXhkbWpXVHM) "
   ]
  },
  {
   "cell_type": "code",
   "execution_count": null,
   "metadata": {
    "collapsed": false,
    "scrolled": true
   },
   "outputs": [],
   "source": [
    "first_list = [1, 2, 3]\n",
    "second_list = [1, \"2\"]\n",
    "\n",
    "# Since lists can contain any elements, they can also contain other lists\n",
    "a = ['a', 'b', 'c']\n",
    "n = [1, 2, 3]\n",
    "x = [a, n]\n",
    "print(x) # => [['a', 'b', 'c'], [1, 2, 3]]\n",
    "print(x[0]) # => ['a', 'b', 'c']\n",
    "print(x[0][1]) # => 'b'\n",
    "# Slice lists just like strings\n",
    "print(n[1:]) # => [2, 3]\n",
    "print(a[:2]) # => ['a', 'b']\n",
    "\n",
    "# Length (len)\n",
    "print(len([])) # => 0\n",
    "print(len(\"python\")) # => 6\n",
    "print(len([4,5,\"seconds\"])) # => 3\n",
    "\n",
    "# Membership (in)\n",
    "print(0 in []) # => False\n",
    "print('y' in 'python') # => True\n",
    "print('minutes' in [4, 5, 'seconds']) # => False"
   ]
  },
  {
   "cell_type": "code",
   "execution_count": null,
   "metadata": {
    "collapsed": false,
    "scrolled": true
   },
   "outputs": [],
   "source": [
    "# strings <—> lists\n",
    "\n",
    "# `split` partitions a string by a delimiter\n",
    "print('ham cheese bacon'.split()) # => ['ham', 'cheese', 'bacon']\n",
    "\n",
    "# `join` creates a string from a list\n",
    "print(', '.join(['Eric', 'John', 'Michael'])) # => \"Eric, John, Michael\""
   ]
  },
  {
   "cell_type": "code",
   "execution_count": null,
   "metadata": {
    "collapsed": true
   },
   "outputs": [],
   "source": [
    "# quiz 4\n",
    "\n",
    "'03-30-2016'.<FILL IN>\n",
    "# => ['03', '30', '2016']"
   ]
  },
  {
   "cell_type": "markdown",
   "metadata": {},
   "source": [
    "#### 2.7 Input / Output (I/O) and Error Handling"
   ]
  },
  {
   "cell_type": "code",
   "execution_count": null,
   "metadata": {
    "collapsed": false,
    "scrolled": true
   },
   "outputs": [],
   "source": [
    "# console I/O\n",
    "name = input(\"What is your name? \")\n",
    "print(\"I am \" + name)\n",
    "\n",
    "# file I/O\n",
    "with open('/var/log/lastlog', 'r') as f:\n",
    "    content = f.read()\n",
    "    try:\n",
    "        print(1/0)\n",
    "    except ZeroDivisionError:\n",
    "        print(\"Ignore ZeroDivisionError\")\n",
    "\n",
    "print(f.closed) # => True\n",
    "\n",
    "\"\"\" `content` is still in scope \"\"\"\n",
    "print('content' in locals()) # => True"
   ]
  },
  {
   "cell_type": "code",
   "execution_count": null,
   "metadata": {
    "collapsed": false
   },
   "outputs": [],
   "source": [
    "class ResultError(Exception):\n",
    "    \"\"\"Exception raised for errors in the result.\n",
    "\n",
    "    Attributes:\n",
    "        expression -- result expression in which the error occurred\n",
    "        message -- explanation of the error\n",
    "    \"\"\"\n",
    "\n",
    "    def __init__(self, expression, message):\n",
    "        self.expression = expression\n",
    "        self.message = message\n",
    "        \n",
    "def divide(x, y):\n",
    "    try:\n",
    "        result = x / y\n",
    "        if result < 0:\n",
    "            raise ResultError('result', 'result is smaller than 0.')\n",
    "    except ZeroDivisionError as ze:\n",
    "        print(ze)\n",
    "    except ResultError as e:\n",
    "        print(e) \n",
    "    else:\n",
    "        print(\"result is\", result)\n",
    "    finally:\n",
    "        print(\"executing finally clause\")\n",
    "\n",
    "divide(2, 1) # no error\n",
    "divide(2, 0) # ZeroDivisionError\n",
    "divide(-2, 1) # ResultError"
   ]
  },
  {
   "cell_type": "markdown",
   "metadata": {},
   "source": [
    "#### 2.8 If, Elif, Else Statement"
   ]
  },
  {
   "cell_type": "code",
   "execution_count": null,
   "metadata": {
    "collapsed": false,
    "scrolled": true
   },
   "outputs": [],
   "source": [
    "n = 15\n",
    "\n",
    "if n % 3 == 0 and n % 5 == 0:\n",
    "    print('FizzBuzz')\n",
    "# 0 or more elif statement\n",
    "elif n % 3 == 0:\n",
    "    print('Fizz')\n",
    "elif n % 5 == 0:\n",
    "    print('Buzz')\n",
    "# else is optional\n",
    "else:\n",
    "    print(str(n))    \n",
    "# => FizzBuzz\n",
    "\n",
    "\"\"\"\n",
    "Aside: is vs. ==\n",
    "\n",
    "is operator checks identity instead of equality\n",
    "\n",
    "When comparing against None or other singletons,\n",
    "always use is None instead of == None\n",
    "\n",
    "Use == when comparing values\n",
    "Use is when comparing identities\n",
    "\"\"\"\n",
    "\n",
    "# 'Falsy'\n",
    "print(bool(None)) # => False\n",
    "print(bool(False)) # => False\n",
    "print(bool(0)) # => False\n",
    "print(bool(0.0)) # => False\n",
    "print(bool('')) # => False\n",
    "print(bool([])) # => False\n",
    "\n",
    "# Everything else is 'truthy'\n",
    "\n",
    "# Example\n",
    "data = []\n",
    "if data:\n",
    "    process(data)\n",
    "else:\n",
    "    print(\"There's no data!\")\n",
    "# => There's no data!"
   ]
  },
  {
   "cell_type": "code",
   "execution_count": null,
   "metadata": {
    "collapsed": false,
    "scrolled": true
   },
   "outputs": [],
   "source": [
    "# quiz 5\n",
    "\n",
    "# Palindrome Check (e.g. 'akka' is palindrome)\n",
    "word = input(\"Please enter a word: \")\n",
    "reversed_word = <FILL IN>\n",
    "if <FILL IN>:\n",
    "    print(\"Hooray! {} is a palindrome\".format(word))\n",
    "else:\n",
    "    print(\"Sad leh! {} is not a palindrome.\".format(word))"
   ]
  },
  {
   "cell_type": "markdown",
   "metadata": {},
   "source": [
    "#### 2.9 Loop"
   ]
  },
  {
   "cell_type": "code",
   "execution_count": null,
   "metadata": {
    "collapsed": false,
    "scrolled": true
   },
   "outputs": [],
   "source": [
    "'''\n",
    "for item in iterable:\n",
    "    process(item)\n",
    "\n",
    "No loop counter!\n",
    "'''\n",
    "\n",
    "languages = [\"Python\", \"Java\", \"C\", \"Go\", \"PHP\"]\n",
    "for l in languages:\n",
    "    print(l)\n",
    "\n",
    "# => Python\\nJava\\nC\\nGo\\nPHP"
   ]
  },
  {
   "cell_type": "code",
   "execution_count": null,
   "metadata": {
    "collapsed": false,
    "scrolled": true
   },
   "outputs": [],
   "source": [
    "# range\n",
    "\n",
    "print(list(range(3)))\n",
    "# generates 0, 1, 2\n",
    "print(list(range(5, 10)))\n",
    "# generates 5, 6, 7, 8, 9\n",
    "print(list(range(2, 12, 3)))\n",
    "# generates 2, 5, 8, 11\n",
    "print(list(range(-7, -30, -5)))\n",
    "# generates -7, -12, -17, -22, -27"
   ]
  },
  {
   "cell_type": "code",
   "execution_count": null,
   "metadata": {
    "collapsed": false
   },
   "outputs": [],
   "source": [
    "# break and continue\n",
    "\n",
    "for n in range(10):\n",
    "    if n == 6:\n",
    "        break\n",
    "    print(n, end=',')\n",
    "# => 0, 1, 2, 3, 4, 5,\n",
    "\n",
    "print()\n",
    "\n",
    "for n in range(10):\n",
    "    if n % 2 == 0:\n",
    "        print(\"Even\", n)\n",
    "        continue\n",
    "    print(\"Odd\", n)\n",
    "    \n",
    "# => Even 0\\nOdd 1\\nEven 2\\nOdd 3\\nEven 4\\nOdd 5\\nEven 6\\nOdd 7\\nEven 8\\nOdd 9"
   ]
  },
  {
   "cell_type": "markdown",
   "metadata": {},
   "source": [
    "#### 2.10 Function\n",
    "\n",
    "> Learn more (e.g. Default Argument Values, Keyword Arguments, Variadic Argument Lists, Unpacking Arguments, Anonymous Functions, First-Class Functions, Functional Programming) at [CS41 Functions](https://drive.google.com/open?id=0B-eHIhYpHrGDcW9rTnZ5cGNUVlk)"
   ]
  },
  {
   "cell_type": "code",
   "execution_count": null,
   "metadata": {
    "collapsed": false
   },
   "outputs": [],
   "source": [
    "'''\n",
    "def fn_name(param1, param2):\n",
    "    value = do_something()\n",
    "    return value\n",
    "\n",
    "Parameters have no explicit types\n",
    "return is optional, if either return or its value are omitted, implicitly returns None\n",
    "'''\n",
    "\n",
    "def is_prime(n):\n",
    "    for i in range(2, n):\n",
    "        if n % i == 0:\n",
    "            return False\n",
    "    return True\n",
    "\n",
    "print(is_prime(4)) # => False\n",
    "print(is_prime(5)) # => True"
   ]
  },
  {
   "cell_type": "code",
   "execution_count": null,
   "metadata": {
    "collapsed": false
   },
   "outputs": [],
   "source": [
    "# quiz 6\n",
    "\n",
    "# Prime Number Generator\n",
    "def is_prime(n):\n",
    "    for i in range(2, n):\n",
    "        if n % i == 0:\n",
    "            return False\n",
    "    return True\n",
    "\n",
    "def <FILL IN>(<FILL IN>):\n",
    "    '''get_primes\n",
    "    \n",
    "    A function return a list of prime numbers smaller than n\n",
    "    \n",
    "    Args:\n",
    "        n: end point (int)\n",
    "    \n",
    "    Return:\n",
    "        prime numbers smaller than n (list)\n",
    "        \n",
    "    >>> get_primes(8)\n",
    "    [2, 3, 5, 7]\n",
    "    \n",
    "    '''\n",
    "    <FILL IN>\n",
    "    \n",
    "print(get_primes(8))"
   ]
  },
  {
   "cell_type": "code",
   "execution_count": null,
   "metadata": {
    "collapsed": false
   },
   "outputs": [],
   "source": [
    "# You need to try this in your Python Interpreter\n",
    "import antigravity"
   ]
  },
  {
   "cell_type": "markdown",
   "metadata": {},
   "source": [
    "![joke 2](https://qph.ec.quoracdn.net/main-qimg-4e6c238477813abd5335d7bf51b54c15)\n",
    "\n",
    "Congratulations for reaching 2nd break point. 10 mins break and feel free to ask questions. :D"
   ]
  },
  {
   "cell_type": "markdown",
   "metadata": {},
   "source": [
    "### Session 3 - Python Built-in (60 mins)\n",
    "\n",
    "References:\n",
    "> [The Python Standard Library](https://drive.google.com/open?id=0B-eHIhYpHrGDbWRZa1Q3eFlCdkk)"
   ]
  },
  {
   "cell_type": "markdown",
   "metadata": {},
   "source": [
    "#### 3.1 Terminology and Import\n",
    "* Module - smallest unit of code reusability\n",
    "    * File containing Python definitions and statements\n",
    "* Package - logical collection of modules\n",
    "    * Often bundles large products and broad functionality\n",
    "* Standard Library - collection of packages and modules\n",
    "    * Distributed with Python by default\n",
    "* Script - Any Python code invoked as an executable\n",
    "    * Usually from the command line\n",
    "    \n",
    "How import works:\n",
    "\n",
    "![import](https://www.python.org/m/dev/peps/pep-3147/pep-3147-1.png)"
   ]
  },
  {
   "cell_type": "code",
   "execution_count": null,
   "metadata": {
    "collapsed": false
   },
   "outputs": [],
   "source": [
    "# Import a module\n",
    "import math\n",
    "print(math.sqrt(16)) # => 4\n",
    "\n",
    "# Import symbols from a module into the local namespace\n",
    "from math import ceil, floor\n",
    "print(ceil(3.7)) # => 4.0\n",
    "print(floor(3.7)) # => 3.0"
   ]
  },
  {
   "cell_type": "markdown",
   "metadata": {},
   "source": [
    "#### 3.2 `re` — Regular expression operations\n",
    "\n",
    "> [Python `re` documentation](https://docs.python.org/3/library/re.html)"
   ]
  },
  {
   "cell_type": "code",
   "execution_count": null,
   "metadata": {
    "collapsed": false
   },
   "outputs": [],
   "source": [
    "import re\n",
    "\n",
    "m = re.search(r\"(\\w+) (\\w+)\", \"Isaac Newton, physicist\")\n",
    "print(m.group(0)) # \"Isaac Newton\" - the entire match\n",
    "print(m.group(1)) # \"Isaac\" - first parenthesized subgroup\n",
    "print(m.group(2)) # \"Newton\" - second parenthesized subgroup\n",
    "\n",
    "m = re.match(r\"(?P<fname>\\w+) (?P<lname>\\w+)\", \"Malcolm Reynolds\")\n",
    "print(m.group('fname')) # => 'Malcolm'\n",
    "print(m.group('lname')) # => 'Reynolds'\n",
    "\n",
    "print(re.sub(r\"@\\w+\\.com\", r\"@nus.edu.sg\", \"sam@msft.com jeff@msft.com\"))\n",
    "# => sam@nus.edu.sg jeff@nus.edu.sg\n",
    "\n",
    "pattern = re.compile(r'[a-z]+[0-9]{3}') # r'str' is raw\n",
    "match = re.search(pattern, '@@@abc123') # anywhere in string\n",
    "print(match.span()) # => (3, 9)"
   ]
  },
  {
   "cell_type": "code",
   "execution_count": null,
   "metadata": {
    "collapsed": false
   },
   "outputs": [],
   "source": [
    "# quiz 7\n",
    "import re\n",
    "\n",
    "def is_phone(p):\n",
    "    '''is_phone\n",
    "    \n",
    "    A function check if p is a valid phone number\n",
    "    Hint: \\d captures [0-9]\n",
    "    \n",
    "    Args:\n",
    "        p: phone number to check (str)\n",
    "    \n",
    "    Return:\n",
    "        True if p is valid, False otherwise (bool)\n",
    "    \n",
    "    >>> is_phone('(650) 815-5309)')\n",
    "    True\n",
    "    >>> is_phone('650.815.5309')\n",
    "    False\n",
    "    \n",
    "    '''\n",
    "    <FILL IN>\n",
    "print(is_phone('(650) 815-5309)')) # => True\n",
    "print(is_phone('650.815.5309')) # => False"
   ]
  },
  {
   "cell_type": "markdown",
   "metadata": {},
   "source": [
    "#### 3.3 `collections` - container datatypes\n",
    "\n",
    "> [Python `collections` documentation](https://docs.python.org/3/library/collections.html)"
   ]
  },
  {
   "cell_type": "code",
   "execution_count": null,
   "metadata": {
    "collapsed": false
   },
   "outputs": [],
   "source": [
    "import collections\n",
    "\n",
    "s = [('yellow', 1), ('blue', 2), ('yellow', 3), ('blue', 4), ('red', 1)]\n",
    "d = collections.defaultdict(lambda: list())\n",
    "for k, v in s:\n",
    "    d[k].append(v)\n",
    "print(list(d.items())) \n",
    "# => [('yellow', [1, 3]), ('red', [1]), ('blue', [2, 4])]"
   ]
  },
  {
   "cell_type": "code",
   "execution_count": null,
   "metadata": {
    "collapsed": false
   },
   "outputs": [],
   "source": [
    "# quiz 8\n",
    "import collections\n",
    "\n",
    "# Want 'mississippi' => [('i', 4), ('p', 2), ('s', 4), ('m', 1)]\n",
    "s = 'mississippi'\n",
    "<FILL IN>\n",
    "list(d.items())\n",
    "# => [('m', 1), ('i', 4), ('s', 4), ('p', 2)]"
   ]
  },
  {
   "cell_type": "code",
   "execution_count": null,
   "metadata": {
    "collapsed": false
   },
   "outputs": [],
   "source": [
    "import collections\n",
    "\n",
    "s = 'mississippi'\n",
    "count = collections.Counter(s)\n",
    "print(list(count.items()))\n",
    "# => [('m', 1), ('i', 4), ('s', 4), ('p', 2)]\n",
    "print(count.most_common(3))\n",
    "# => [('i', 4), ('s', 4), ('p', 2)]"
   ]
  },
  {
   "cell_type": "code",
   "execution_count": null,
   "metadata": {
    "collapsed": false
   },
   "outputs": [],
   "source": [
    "import collections\n",
    "\n",
    "Point = collections.namedtuple('Point', ['x', 'y'])\n",
    "p = Point(11, y=22) # positional or keyword arguments\n",
    "print(p[0] + p[1]) # indexable like the plain tuple (11, 22)\n",
    "# => 33\n",
    "x, y = p # unpack like a regular tuple\n",
    "print((x, y)) # => (11, 22)\n",
    "print(p.x + p.y) # fields also accessible by name\n",
    "# => 33\n",
    "print(p) # readable __repr__ with a name=value style\n",
    "# Point(x=11, y=22)\n",
    "\n",
    "Color = collections.namedtuple(\"Color\", [\"hue\", \"saturation\", \"luminosity\"])\n",
    "pixel = Color(170, 0.1, 0.6)\n",
    "if pixel.saturation >= 0.5:\n",
    "    print(\"Whew, that is bright!\")\n",
    "if pixel.luminosity >= 0.5:\n",
    "    print(\"Wow, that is light!\")"
   ]
  },
  {
   "cell_type": "markdown",
   "metadata": {},
   "source": [
    "#### 3.4 `itertools` -  Functions creating iterators for efficient looping\n",
    "\n",
    "> [Python `itertools` documentation](https://docs.python.org/3.5/library/itertools.html)"
   ]
  },
  {
   "cell_type": "code",
   "execution_count": null,
   "metadata": {
    "collapsed": false
   },
   "outputs": [],
   "source": [
    "import itertools\n",
    "\n",
    "# start, [step] -> start, start + step, ...\n",
    "numbers = itertools.count(10) # -> 10, 11, 12, 13, 14, …\n",
    "print(next(numbers)) # => 10\n",
    "print(next(numbers)) # => 11\n",
    "\n",
    "# Cycle through elements of an iterable\n",
    "cycles = itertools.cycle('ABCD') # -> 'A', 'B', 'C', 'D', 'A', …\n",
    "print(next(cycles)) # => A\n",
    "next(cycles)\n",
    "print(next(cycles)) # => C\n",
    "next(cycles)\n",
    "print(next(cycles)) # => A\n",
    "\n",
    "# Repeat a single element over and over.\n",
    "repeats = itertools.repeat(10) # -> 10, 10, 10, 10, ...\n",
    "print(next(repeats)) # => 10\n",
    "print(next(repeats)) # => 10"
   ]
  },
  {
   "cell_type": "markdown",
   "metadata": {},
   "source": [
    "#### 3.5 `json` - JSON encoder and decoder\n",
    "\n",
    "> [Python `json` documentation](https://docs.python.org/3/library/json.html)"
   ]
  },
  {
   "cell_type": "code",
   "execution_count": null,
   "metadata": {
    "collapsed": false
   },
   "outputs": [],
   "source": [
    "import json\n",
    "\n",
    "squares = {1:1, 2:4, 3:9, 4:16}\n",
    "# Serialize to/from string\n",
    "output = json.dumps(squares) \n",
    "print(output)\n",
    "#=> {\"1\": 1, \"2\": 4, \"3\": 9, \"4\": 16}\n",
    "\n",
    "print(json.loads(output))\n",
    "#=> {'1': 1, '4': 16, '3': 9, '2': 4}\n",
    "\n",
    "# Serialize to/from file\n",
    "with open('/tmp/tmp.json', 'w') as outfile:\n",
    "    json.dump(squares, outfile)\n",
    "with open('/tmp/tmp.json', 'r') as infile:\n",
    "    json_input = json.load(infile)\n",
    "    print(json_input)\n",
    "    # => {'1': 1, '4': 16, '3': 9, '2': 4}\n",
    "    \n",
    "# All variants support useful keyword arguments\n",
    "print(json.dumps(squares, indent=4, sort_keys=True, separators=(',', ': ')))\n",
    "#{\n",
    "#    \"1\": 1,\n",
    "#    \"2\": 4,\n",
    "#    \"3\": 9,\n",
    "#    \"4\": 16\n",
    "#}"
   ]
  },
  {
   "cell_type": "markdown",
   "metadata": {},
   "source": [
    "#### 3.6 `random` - Generate pseudo-random numbers\n",
    "\n",
    "> [Python `random` documentation](https://docs.python.org/3/library/random.html)"
   ]
  },
  {
   "cell_type": "code",
   "execution_count": null,
   "metadata": {
    "collapsed": false
   },
   "outputs": [],
   "source": [
    "import random\n",
    "\n",
    "random.seed(0, version=2)\n",
    "\n",
    "print(random.random()) # Random float x, 0.0 <= x < 1.0\n",
    "# => 0.8444218515250481\n",
    "\n",
    "print(random.uniform(1, 10)) # Random float x, 1.0 <= x < 10.0\n",
    "# => 7.821589626462722\n",
    "\n",
    "print(random.randint(0, 9)) # Integer from 0 to 9\n",
    "# => 6\n",
    "\n",
    "print(random.randrange(10)) # Integer from 0 to 9\n",
    "# => 0\n",
    "\n",
    "print(random.randrange(0, 101, 2)) # Even integer from 0 to 100\n",
    "# => 32\n",
    "\n",
    "print(random.choice('abcdefghij')) # Choose a single element\n",
    "# => 'i'\n",
    "\n",
    "items = [1, 2, 3, 4, 5, 6, 7]\n",
    "random.shuffle(items)\n",
    "print(items)\n",
    "# => [5, 1, 2, 6, 3, 7, 4]\n",
    "\n",
    "print(random.sample(range(5), k=3)) # k samples without replacement\n",
    "# => [4, 1, 3]\n",
    "\n",
    "# Can also draw from statistical distributions\n",
    "print(random.normalvariate(mu=0, sigma=3))\n",
    "# => 0.5684385479481361"
   ]
  },
  {
   "cell_type": "markdown",
   "metadata": {},
   "source": [
    "#### 3.7 `pprint` - Data pretty printer\n",
    "\n",
    "> [Python `pprint` documentation](https://docs.python.org/3/library/pprint.html)"
   ]
  },
  {
   "cell_type": "code",
   "execution_count": null,
   "metadata": {
    "collapsed": false
   },
   "outputs": [],
   "source": [
    "import pprint\n",
    "\n",
    "# Some horrendous data structure\n",
    "ugly = {\n",
    "    'data': {\n",
    "    'after': 't3_3q8aog',\n",
    "    'before': None,\n",
    "    'kind': 'pagination',\n",
    "    'children': [{}, {}, {}, {}],\n",
    "    'uuid': '40b6f818'\n",
    "    }\n",
    "}\n",
    "ugly['recursive'] = ugly\n",
    "\n",
    "print(ugly)\n",
    "# {'data': {'uuid': '40b6f818', 'children': [{}, {}, {}, {}], \n",
    "# 'kind': 'pagination', 'before': None, 'after': 't3_3q8aog'}, 'recursive': {...}}\n",
    "pprint.pprint(ugly, width=56, depth=2)\n",
    "#{'data': {'after': 't3_3q8aog',\n",
    "#          'before': None,\n",
    "#          'children': [...],\n",
    "#          'kind': 'pagination',\n",
    "#          'uuid': '40b6f818'},\n",
    "# 'recursive': <Recursion on dict with id=140481138174856>}"
   ]
  },
  {
   "cell_type": "markdown",
   "metadata": {},
   "source": [
    "#### 3.8 `timeit` -  Measure execution time of small code snippets\n",
    "\n",
    "> [Python `timeit` documentation](https://docs.python.org/3/library/timeit.html)"
   ]
  },
  {
   "cell_type": "code",
   "execution_count": null,
   "metadata": {
    "collapsed": false
   },
   "outputs": [],
   "source": [
    "import timeit\n",
    "\n",
    "print(timeit.timeit('\"-\".join(str(n) for n in range(100))', number=10000))\n",
    "print(timeit.timeit('\"-\".join([str(n) for n in range(100)])', number=10000))\n",
    "print(timeit.timeit('\"-\".join(map(str, range(100)))', number=10000))"
   ]
  },
  {
   "cell_type": "markdown",
   "metadata": {},
   "source": [
    "#### 3.9 Builtin Functions\n",
    "\n",
    "> [Python Builtin Functions documentation](https://docs.python.org/3/library/functions.html)"
   ]
  },
  {
   "cell_type": "code",
   "execution_count": null,
   "metadata": {
    "collapsed": false
   },
   "outputs": [],
   "source": [
    "print(any([True, True, False])) # => True\n",
    "print(all([True, True, False])) # => False\n",
    "print(int('45')) # => 45\n",
    "print(int('0x2a', 16)) # => 42\n",
    "print(int('1011', 2)) # => 11\n",
    "print(hex(42)) # => '0x2a'\n",
    "print(bin(42)) # => '0b101010'\n",
    "print(ord('a')) # => 97\n",
    "print(chr(97)) # => 'a'\n",
    "print(round(123.45, 1)) # => 123.5\n",
    "print(round(123.45, -2)) # => 100.0\n",
    "\n",
    "quotient, remainder = divmod(10, 6)\n",
    "print((quotient, remainder)) # => (1, 4)\n",
    "print(max(2, 3)) # => 3\n",
    "print(max([0, 4, 1])) # => 4\n",
    "print(min(['apple', 'banana', 'pear'], key=len)) # => pear\n",
    "print(pow(3, 5)) # => 243 (= 3 ** 5)\n",
    "print(pow(3, 5, 10)) # => 3 (= (3 ** 5) % 10, efficiently)\n",
    "print(sum([3, 5, 7])) # => 15\n",
    "\n",
    "# Flatten a list of lists (slower than itertools.chain)\n",
    "print(sum([[3, 5], [1, 7], [4]], [])) # => [3, 5, 1, 7, 4]"
   ]
  },
  {
   "cell_type": "markdown",
   "metadata": {},
   "source": [
    "#### 3.10 All others\n",
    "\n",
    "> [Python `__future__` documentation](https://docs.python.org/3.5/library/__future__.html)\n",
    "\n",
    "> [Python `math` documentation](https://docs.python.org/3.5/library/math.html)\n",
    "\n",
    "> [Python `statistics` documentation](https://docs.python.org/3.5/library/statistics.html)\n",
    "\n",
    "> [Python `turtle` documentation](https://docs.python.org/3.5/library/turtle.html)\n",
    "\n",
    "> [Python `unicodedata` documentation](https://docs.python.org/3.5/library/unicodedata.html)"
   ]
  },
  {
   "cell_type": "code",
   "execution_count": null,
   "metadata": {
    "collapsed": false
   },
   "outputs": [],
   "source": [
    "import statistics\n",
    "data = [2.75, 1.75, 1.25, 0.25, 0.5, 1.25, 3.5]\n",
    "print(statistics.mean(data)) # => 1.6071428571428572\n",
    "print(statistics.median(data)) # => 1.25\n",
    "print(statistics.variance(data)) # => 1.3720238095238095"
   ]
  },
  {
   "cell_type": "code",
   "execution_count": null,
   "metadata": {
    "collapsed": false
   },
   "outputs": [],
   "source": [
    "import unicodedata\n",
    "print(unicodedata.lookup('SLICE OF PIZZA'))\n",
    "# => '🍕'\n",
    "print(unicodedata.name('👌'))\n",
    "# => 'OK HAND SIGN'\n",
    "print(unicodedata.numeric('¾'))\n",
    "# => 0.75"
   ]
  },
  {
   "cell_type": "code",
   "execution_count": null,
   "metadata": {
    "collapsed": false
   },
   "outputs": [],
   "source": [
    "# http://svn.python.org/view/python/trunk/Python/future.c?view=markup\n",
    "from __future__ import braces "
   ]
  },
  {
   "cell_type": "markdown",
   "metadata": {},
   "source": [
    "![joke 3](http://i.imgur.com/CfSwf.jpg)\n",
    "\n",
    "Congratulations for reaching 3rd break point. 10 mins break and feel free to ask questions. :D"
   ]
  }
 ],
 "metadata": {
  "celltoolbar": "Raw Cell Format",
  "kernelspec": {
   "display_name": "Python 3",
   "language": "python",
   "name": "python3"
  },
  "language_info": {
   "codemirror_mode": {
    "name": "ipython",
    "version": 3
   },
   "file_extension": ".py",
   "mimetype": "text/x-python",
   "name": "python",
   "nbconvert_exporter": "python",
   "pygments_lexer": "ipython3",
   "version": "3.5.2"
  }
 },
 "nbformat": 4,
 "nbformat_minor": 0
}
